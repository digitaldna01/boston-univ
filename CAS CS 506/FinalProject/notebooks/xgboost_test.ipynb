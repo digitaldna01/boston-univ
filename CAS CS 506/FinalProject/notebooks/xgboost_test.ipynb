{
 "cells": [
  {
   "cell_type": "code",
   "execution_count": 3,
   "metadata": {},
   "outputs": [],
   "source": [
    "import pandas as pd\n",
    "import seaborn as sns\n",
    "import matplotlib.pyplot as plt\n",
    "# Load the TSV Data File\n",
    "# df = pd.read_csv('./data/aml_ohsu_2022_clinical_data.tsv', sep='\\t') # load the data (tsv file so need to specify sep)\n",
    "df = pd.read_csv('../data/breast_cancer.csv') # load the data "
   ]
  },
  {
   "cell_type": "code",
   "execution_count": null,
   "metadata": {},
   "outputs": [],
   "source": [
    "df.to_csv(\"../data/preprocessed.csv\", index=False)"
   ]
  },
  {
   "cell_type": "code",
   "execution_count": 10,
   "metadata": {},
   "outputs": [
    {
     "name": "stdout",
     "output_type": "stream",
     "text": [
      "(408, 45)\n",
      "(136, 45)\n",
      "(408,)\n",
      "(136,)\n",
      "split data...\n"
     ]
    }
   ],
   "source": [
    "# STEP 4 MODEL TRAINING\n",
    "import sys\n",
    "sys.path.append('..')  \n",
    "from sklearn.model_selection import train_test_split\n",
    "import pandas as pd\n",
    "import seaborn as sns\n",
    "import matplotlib.pyplot as plt\n",
    "\n",
    "df = pd.read_csv('../data/preprocessed_data.csv')\n",
    "train = df\n",
    "train = train.drop(columns='id')\n",
    "X_train = train[train['diagnosis'].notnull()]\n",
    "\n",
    "X_train, X_test, Y_train, Y_test = train_test_split(\n",
    "    X_train.drop(columns=['diagnosis']),\n",
    "    X_train['diagnosis'],\n",
    "    test_size=1/4.0,\n",
    "    random_state=0\n",
    ")\n",
    "print(X_train.shape)\n",
    "print(X_test.shape)\n",
    "print(Y_train.shape)\n",
    "print(Y_test.shape)\n",
    "print(\"split data...\")\n",
    "\n",
    "X_train = X_train.to_numpy()\n",
    "X_test = X_test.to_numpy()\n",
    "Y_train = Y_train.to_numpy()\n",
    "Y_test = Y_test.to_numpy()"
   ]
  },
  {
   "cell_type": "code",
   "execution_count": 15,
   "metadata": {},
   "outputs": [
    {
     "name": "stdout",
     "output_type": "stream",
     "text": [
      "Accuracy on testing set =  0.9632352941176471\n"
     ]
    }
   ],
   "source": [
    "%load_ext autoreload\n",
    "%autoreload 2\n",
    "\n",
    "import sys\n",
    "sys.path.append('../')  \n",
    "from models.xgboost_scratch import XGBoostFromScratch\n",
    "from sklearn.metrics import accuracy_score, confusion_matrix\n",
    "\n",
    "xgb = XGBoostFromScratch()\n",
    "\n",
    "xgb.fit(X_train, Y_train)\n",
    "\n",
    "y_pred = xgb.predict(X_test)\n",
    "\n",
    "print(\"Accuracy on testing set = \", accuracy_score(Y_test, y_pred))"
   ]
  },
  {
   "cell_type": "code",
   "execution_count": 2,
   "metadata": {},
   "outputs": [],
   "source": [
    "from xgboost_from_chat import XGBoostFromScratch\n",
    "from sklearn.metrics import accuracy_score, confusion_matrix\n",
    "\n",
    "model = XGBoostFromScratch(n_estimators=100, max_depth=3, learning_rate=0.1)"
   ]
  },
  {
   "cell_type": "code",
   "execution_count": 3,
   "metadata": {},
   "outputs": [
    {
     "name": "stdout",
     "output_type": "stream",
     "text": [
      "max_depth=3, min_child_weight=1, Accuracy=0.9338235294117647\n",
      "max_depth=3, min_child_weight=3, Accuracy=0.9411764705882353\n",
      "max_depth=3, min_child_weight=5, Accuracy=0.9338235294117647\n",
      "max_depth=5, min_child_weight=1, Accuracy=0.9558823529411765\n",
      "max_depth=5, min_child_weight=3, Accuracy=0.9411764705882353\n",
      "max_depth=5, min_child_weight=5, Accuracy=0.9485294117647058\n",
      "max_depth=7, min_child_weight=1, Accuracy=0.9558823529411765\n",
      "max_depth=7, min_child_weight=3, Accuracy=0.9558823529411765\n",
      "max_depth=7, min_child_weight=5, Accuracy=0.9485294117647058\n"
     ]
    }
   ],
   "source": [
    "for max_depth in [3, 5, 7]:\n",
    "    for min_child_weight in [1, 3, 5]:\n",
    "        model = XGBoostFromScratch(n_estimators=100, max_depth=max_depth, learning_rate=0.1, min_child_weight=min_child_weight)\n",
    "        model.fit(X_train, Y_train)\n",
    "        y_pred = model.predict(X_test)\n",
    "        print(f\"max_depth={max_depth}, min_child_weight={min_child_weight}, Accuracy={accuracy_score(Y_test, y_pred)}\")\n"
   ]
  },
  {
   "cell_type": "code",
   "execution_count": 4,
   "metadata": {},
   "outputs": [
    {
     "name": "stdout",
     "output_type": "stream",
     "text": [
      "learning_rate=0.01, n_estimators=50, Accuracy=0.6397058823529411\n",
      "learning_rate=0.01, n_estimators=100, Accuracy=0.9264705882352942\n",
      "learning_rate=0.01, n_estimators=200, Accuracy=0.9485294117647058\n",
      "learning_rate=0.1, n_estimators=50, Accuracy=0.9558823529411765\n",
      "learning_rate=0.1, n_estimators=100, Accuracy=0.9558823529411765\n",
      "learning_rate=0.1, n_estimators=200, Accuracy=0.9558823529411765\n",
      "learning_rate=0.2, n_estimators=50, Accuracy=0.9485294117647058\n",
      "learning_rate=0.2, n_estimators=100, Accuracy=0.9485294117647058\n",
      "learning_rate=0.2, n_estimators=200, Accuracy=0.9485294117647058\n"
     ]
    }
   ],
   "source": [
    "for learning_rate in [0.01, 0.1, 0.2]:\n",
    "    for n_estimators in [50, 100, 200]:\n",
    "        model = XGBoostFromScratch(n_estimators=n_estimators, max_depth=7, learning_rate=learning_rate, min_child_weight=3)\n",
    "        model.fit(X_train, Y_train)\n",
    "        y_pred = model.predict(X_test)\n",
    "        print(f\"learning_rate={learning_rate}, n_estimators={n_estimators}, Accuracy={accuracy_score(Y_test, y_pred)}\")\n"
   ]
  },
  {
   "cell_type": "code",
   "execution_count": 6,
   "metadata": {},
   "outputs": [
    {
     "name": "stdout",
     "output_type": "stream",
     "text": [
      "lambda_=0, Accuracy=0.9558823529411765\n",
      "lambda_=0.1, Accuracy=0.9558823529411765\n",
      "lambda_=1, Accuracy=0.9558823529411765\n",
      "lambda_=10, Accuracy=0.9338235294117647\n"
     ]
    }
   ],
   "source": [
    "for lambda_ in [0, 0.1, 1, 10]:\n",
    "    model = XGBoostFromScratch(n_estimators=200, max_depth=7, learning_rate=0.1, lambda_=lambda_, min_child_weight=3)\n",
    "    model.fit(X_train, Y_train)\n",
    "    y_pred = model.predict(X_test)\n",
    "    print(f\"lambda_={lambda_}, Accuracy={accuracy_score(Y_test, y_pred)}\")\n"
   ]
  },
  {
   "cell_type": "code",
   "execution_count": 7,
   "metadata": {},
   "outputs": [
    {
     "name": "stdout",
     "output_type": "stream",
     "text": [
      "gamma=0, Accuracy=0.9558823529411765\n",
      "gamma=1, Accuracy=0.9411764705882353\n",
      "gamma=5, Accuracy=0.9264705882352942\n"
     ]
    }
   ],
   "source": [
    "for gamma in [0, 1, 5]:\n",
    "    model = XGBoostFromScratch(n_estimators=200, max_depth=7, learning_rate=0.1, min_child_weight=3, lambda_=0, gamma=gamma)\n",
    "    model.fit(X_train, Y_train)\n",
    "    y_pred = model.predict(X_test)\n",
    "    print(f\"gamma={gamma}, Accuracy={accuracy_score(Y_test, y_pred)}\")\n",
    "    # gamma는 직접 로직에 추가해야 합니다. split gain 계산에 반영."
   ]
  },
  {
   "cell_type": "code",
   "execution_count": 17,
   "metadata": {},
   "outputs": [
    {
     "name": "stdout",
     "output_type": "stream",
     "text": [
      "Accuracy on testing set =  0.9558823529411765\n"
     ]
    },
    {
     "data": {
      "image/png": "[encoded data removed]",
      "text/plain": [
       "<Figure size 640x480 with 2 Axes>"
      ]
     },
     "metadata": {},
     "output_type": "display_data"
    }
   ],
   "source": [
    "fine_tuned_model =  XGBoostFromScratch(n_estimators=200, max_depth=7, learning_rate=0.1, min_child_weight=3, lambda_=0, gamma=0)\n",
    "fine_tuned_model.fit(X_train, Y_train)\n",
    "y_pred = fine_tuned_model.predict(X_test)\n",
    "print(\"Accuracy on testing set = \", accuracy_score(Y_test, y_pred))\n",
    "cm = confusion_matrix(Y_test, y_pred, normalize='true')\n",
    "sns.heatmap(cm, annot=True)\n",
    "plt.title('Confusion matrix for Scratch XGBoost')\n",
    "plt.xlabel('Predicted')\n",
    "plt.ylabel('True')\n",
    "plt.show()"
   ]
  }
 ],
 "metadata": {
  "kernelspec": {
   "display_name": "Python 3",
   "language": "python",
   "name": "python3"
  },
  "language_info": {
   "codemirror_mode": {
    "name": "ipython",
    "version": 3
   },
   "file_extension": ".py",
   "mimetype": "text/x-python",
   "name": "python",
   "nbconvert_exporter": "python",
   "pygments_lexer": "ipython3",
   "version": "3.12.0"
  }
 },
 "nbformat": 4,
 "nbformat_minor": 2
}
