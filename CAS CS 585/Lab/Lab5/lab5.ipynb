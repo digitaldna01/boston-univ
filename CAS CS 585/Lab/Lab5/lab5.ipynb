{
 "cells": [
  {
   "cell_type": "markdown",
   "id": "cb38f30e-9912-4756-ae24-ab0db88e7421",
   "metadata": {
    "id": "cb38f30e-9912-4756-ae24-ab0db88e7421"
   },
   "source": [
    "### Lab5\n",
    "\n",
    "In this lab we'll learn how to use PyTorch to build a simple CNN. Pytorch is popular deep learning library used by researchers. It is simple, easy to use due to its tight integration with Python. Its main datastructure is Tensor, which is similar to NumPy's ndarrays and can run on specialized hardwares like GPU, TPU etc.,\n",
    "\n",
    "The installation instructions for Pytorch are available at https://pytorch.org/get-started/locally/\n",
    "\n",
    "Colab comes with Pytorch installed by default"
   ]
  },
  {
   "cell_type": "code",
   "execution_count": 3,
   "id": "51315dd1-7827-49c9-a21f-18d0c4386bdb",
   "metadata": {
    "executionInfo": {
     "elapsed": 4169,
     "status": "ok",
     "timestamp": 1676663630897,
     "user": {
      "displayName": "Nannan Li",
      "userId": "10705435388739437475"
     },
     "user_tz": 300
    },
    "id": "51315dd1-7827-49c9-a21f-18d0c4386bdb"
   },
   "outputs": [],
   "source": [
    "import numpy as np\n",
    "import torch\n",
    "from torchvision import datasets, transforms\n",
    "import torchvision\n",
    "\n",
    "from matplotlib import pyplot as plt\n",
    "from time import time\n",
    "from tqdm import tqdm"
   ]
  },
  {
   "cell_type": "code",
   "execution_count": 5,
   "id": "76b2646b-9b04-4e99-b362-d93482d099f5",
   "metadata": {
    "colab": {
     "base_uri": "https://localhost:8080/"
    },
    "executionInfo": {
     "elapsed": 554,
     "status": "ok",
     "timestamp": 1676662596692,
     "user": {
      "displayName": "Nannan Li",
      "userId": "10705435388739437475"
     },
     "user_tz": 300
    },
    "id": "76b2646b-9b04-4e99-b362-d93482d099f5",
    "outputId": "74317966-e504-4f96-c1b0-9cfc15466bcf"
   },
   "outputs": [
    {
     "name": "stdout",
     "output_type": "stream",
     "text": [
      "<class 'numpy.ndarray'> <class 'torch.Tensor'>\n",
      "(3, 3) torch.Size([3, 3])\n"
     ]
    }
   ],
   "source": [
    "data = [[1, 2, 3], [4, 5, 6], [7, 8, 9]]\n",
    "\n",
    "n_data = np.array(data)\n",
    "t_data = torch.Tensor(data)\n",
    "\n",
    "print(type(n_data), type(t_data))\n",
    "print(n_data.shape, t_data.shape)"
   ]
  },
  {
   "cell_type": "code",
   "execution_count": 6,
   "id": "5fa11a9d-1be1-4b18-9e48-898d7df11e45",
   "metadata": {
    "colab": {
     "base_uri": "https://localhost:8080/"
    },
    "executionInfo": {
     "elapsed": 236,
     "status": "ok",
     "timestamp": 1676662614588,
     "user": {
      "displayName": "Nannan Li",
      "userId": "10705435388739437475"
     },
     "user_tz": 300
    },
    "id": "5fa11a9d-1be1-4b18-9e48-898d7df11e45",
    "outputId": "88954df2-24c8-4b55-fc3e-735cb5bcf22c"
   },
   "outputs": [
    {
     "data": {
      "text/plain": [
       "torch.float32"
      ]
     },
     "execution_count": 6,
     "metadata": {},
     "output_type": "execute_result"
    }
   ],
   "source": [
    "# Possible datatypes include int, unsignedint, float, double, half and complex\n",
    "t_data.dtype"
   ]
  },
  {
   "cell_type": "code",
   "execution_count": 7,
   "id": "7a967671-fbf5-4ba5-865a-98f748f73c0d",
   "metadata": {
    "colab": {
     "base_uri": "https://localhost:8080/"
    },
    "executionInfo": {
     "elapsed": 625,
     "status": "ok",
     "timestamp": 1676662620892,
     "user": {
      "displayName": "Nannan Li",
      "userId": "10705435388739437475"
     },
     "user_tz": 300
    },
    "id": "7a967671-fbf5-4ba5-865a-98f748f73c0d",
    "outputId": "3e082b84-0e34-440b-c1d9-b93012872a7b"
   },
   "outputs": [
    {
     "data": {
      "text/plain": [
       "tensor([[1., 2., 3.],\n",
       "        [4., 5., 6.],\n",
       "        [7., 8., 9.]])"
      ]
     },
     "execution_count": 7,
     "metadata": {},
     "output_type": "execute_result"
    }
   ],
   "source": [
    "t_data"
   ]
  },
  {
   "cell_type": "code",
   "execution_count": 8,
   "id": "7d0cf39e-29ed-401e-a67e-40be249b5c89",
   "metadata": {
    "colab": {
     "base_uri": "https://localhost:8080/"
    },
    "executionInfo": {
     "elapsed": 8,
     "status": "ok",
     "timestamp": 1676662724936,
     "user": {
      "displayName": "Nannan Li",
      "userId": "10705435388739437475"
     },
     "user_tz": 300
    },
    "id": "7d0cf39e-29ed-401e-a67e-40be249b5c89",
    "outputId": "b8a9bed2-eab7-41bb-87f8-80f819bec3df"
   },
   "outputs": [
    {
     "name": "stdout",
     "output_type": "stream",
     "text": [
      "cpu\n"
     ]
    },
    {
     "ename": "AssertionError",
     "evalue": "Torch not compiled with CUDA enabled",
     "output_type": "error",
     "traceback": [
      "\u001b[0;31m---------------------------------------------------------------------------\u001b[0m",
      "\u001b[0;31mAssertionError\u001b[0m                            Traceback (most recent call last)",
      "Cell \u001b[0;32mIn[8], line 3\u001b[0m\n\u001b[1;32m      1\u001b[0m \u001b[38;5;66;03m# Tensors are created on CPUs by default. They can be sent to other devices like 'cuda'\u001b[39;00m\n\u001b[1;32m      2\u001b[0m \u001b[38;5;28mprint\u001b[39m(t_data\u001b[38;5;241m.\u001b[39mdevice)\n\u001b[0;32m----> 3\u001b[0m a\u001b[38;5;241m=\u001b[39m\u001b[43mt_data\u001b[49m\u001b[38;5;241;43m.\u001b[39;49m\u001b[43mto\u001b[49m\u001b[43m(\u001b[49m\u001b[43mtorch\u001b[49m\u001b[38;5;241;43m.\u001b[39;49m\u001b[43mdevice\u001b[49m\u001b[43m(\u001b[49m\u001b[38;5;124;43m'\u001b[39;49m\u001b[38;5;124;43mcuda\u001b[39;49m\u001b[38;5;124;43m'\u001b[39;49m\u001b[43m)\u001b[49m\u001b[43m)\u001b[49m\n\u001b[1;32m      4\u001b[0m \u001b[38;5;28mprint\u001b[39m(a\u001b[38;5;241m.\u001b[39mdevice)\n",
      "File \u001b[0;32m/opt/homebrew/lib/python3.10/site-packages/torch/cuda/__init__.py:310\u001b[0m, in \u001b[0;36m_lazy_init\u001b[0;34m()\u001b[0m\n\u001b[1;32m    305\u001b[0m     \u001b[38;5;28;01mraise\u001b[39;00m \u001b[38;5;167;01mRuntimeError\u001b[39;00m(\n\u001b[1;32m    306\u001b[0m         \u001b[38;5;124m\"\u001b[39m\u001b[38;5;124mCannot re-initialize CUDA in forked subprocess. To use CUDA with \u001b[39m\u001b[38;5;124m\"\u001b[39m\n\u001b[1;32m    307\u001b[0m         \u001b[38;5;124m\"\u001b[39m\u001b[38;5;124mmultiprocessing, you must use the \u001b[39m\u001b[38;5;124m'\u001b[39m\u001b[38;5;124mspawn\u001b[39m\u001b[38;5;124m'\u001b[39m\u001b[38;5;124m start method\u001b[39m\u001b[38;5;124m\"\u001b[39m\n\u001b[1;32m    308\u001b[0m     )\n\u001b[1;32m    309\u001b[0m \u001b[38;5;28;01mif\u001b[39;00m \u001b[38;5;129;01mnot\u001b[39;00m \u001b[38;5;28mhasattr\u001b[39m(torch\u001b[38;5;241m.\u001b[39m_C, \u001b[38;5;124m\"\u001b[39m\u001b[38;5;124m_cuda_getDeviceCount\u001b[39m\u001b[38;5;124m\"\u001b[39m):\n\u001b[0;32m--> 310\u001b[0m     \u001b[38;5;28;01mraise\u001b[39;00m \u001b[38;5;167;01mAssertionError\u001b[39;00m(\u001b[38;5;124m\"\u001b[39m\u001b[38;5;124mTorch not compiled with CUDA enabled\u001b[39m\u001b[38;5;124m\"\u001b[39m)\n\u001b[1;32m    311\u001b[0m \u001b[38;5;28;01mif\u001b[39;00m _cudart \u001b[38;5;129;01mis\u001b[39;00m \u001b[38;5;28;01mNone\u001b[39;00m:\n\u001b[1;32m    312\u001b[0m     \u001b[38;5;28;01mraise\u001b[39;00m \u001b[38;5;167;01mAssertionError\u001b[39;00m(\n\u001b[1;32m    313\u001b[0m         \u001b[38;5;124m\"\u001b[39m\u001b[38;5;124mlibcudart functions unavailable. It looks like you have a broken build?\u001b[39m\u001b[38;5;124m\"\u001b[39m\n\u001b[1;32m    314\u001b[0m     )\n",
      "\u001b[0;31mAssertionError\u001b[0m: Torch not compiled with CUDA enabled"
     ]
    }
   ],
   "source": [
    "# Tensors are created on CPUs by default. They can be sent to other devices like 'cuda'\n",
    "print(t_data.device)\n",
    "a=t_data.to(torch.device('cuda'))\n",
    "print(a.device)"
   ]
  },
  {
   "cell_type": "code",
   "execution_count": 13,
   "id": "f4f87a26-0868-4132-9c7a-0ef08ed064b6",
   "metadata": {
    "colab": {
     "base_uri": "https://localhost:8080/"
    },
    "executionInfo": {
     "elapsed": 9,
     "status": "ok",
     "timestamp": 1676662774030,
     "user": {
      "displayName": "Nannan Li",
      "userId": "10705435388739437475"
     },
     "user_tz": 300
    },
    "id": "f4f87a26-0868-4132-9c7a-0ef08ed064b6",
    "outputId": "8670b589-d263-4189-929f-65f3980746d2"
   },
   "outputs": [
    {
     "name": "stdout",
     "output_type": "stream",
     "text": [
      "tensor(16.8819) tensor(16.8819)\n",
      "16.881943016134134 16.881943016134134\n"
     ]
    }
   ],
   "source": [
    "# Most modules from numpy like np.linalg have pytorch alternatives\n",
    "# and usually have similar names and behaviour\n",
    "\n",
    "print(torch.linalg.norm(t_data), torch.sqrt(torch.sum(t_data*t_data)))\n",
    "print(np.linalg.norm(n_data), np.sqrt(np.sum(n_data*n_data)))"
   ]
  },
  {
   "cell_type": "markdown",
   "id": "5bef517a-6ab6-4963-9880-37761909fa3f",
   "metadata": {
    "id": "5bef517a-6ab6-4963-9880-37761909fa3f"
   },
   "source": [
    "**Back-propogation**\n",
    "\n",
    "Neural networks are trained using backpropagation which requires one to compute gradient of the loss function w.r.t to the weights of the network. Pytorch has a built-in differentiation engine called `torch.autograd`. It builts a computation graph, storing the operations and\n",
    "the inputs during the computation of a value. The derivative of the `value` computed w.r.t the variables involved can be calculated by calling `value.backward()`"
   ]
  },
  {
   "cell_type": "code",
   "execution_count": 14,
   "id": "10bb98be-966e-4e08-ba62-706319bd9ba0",
   "metadata": {
    "executionInfo": {
     "elapsed": 193,
     "status": "ok",
     "timestamp": 1676662859084,
     "user": {
      "displayName": "Nannan Li",
      "userId": "10705435388739437475"
     },
     "user_tz": 300
    },
    "id": "10bb98be-966e-4e08-ba62-706319bd9ba0"
   },
   "outputs": [],
   "source": [
    "# If requires grad is false, its not included in the derivative computation\n",
    "W = torch.tensor([[2.0, 0.0], [0.0, 2.0]], requires_grad=True) \n",
    "b = torch.ones(2, 1, requires_grad=True)\n",
    "x = torch.Tensor([[2], [-1]])"
   ]
  },
  {
   "cell_type": "markdown",
   "id": "6cced555-e43d-48e2-b368-51c8466c0b50",
   "metadata": {
    "id": "6cced555-e43d-48e2-b368-51c8466c0b50"
   },
   "source": [
    "$$\\begin{align}\n",
    "    y &= sum(Wx+b)\\\\\n",
    "    y &= sum(\\begin{bmatrix} 2 & 0 \\\\ 0 & 2 \\end{bmatrix}\\begin{bmatrix}2\\\\-1\\end{bmatrix}+\\begin{bmatrix}1\\\\1\\end{bmatrix})\n",
    "\\end{align}$$\n",
    "\n",
    "The above equation is a linear transform followed by a summation operation. `tensor.backward()` only works for scalar valued tensors. For tensors of higher dimensions, the derivatives can be computed by using the autograd engines [`jacobian`](https://pytorch.org/docs/stable/generated/torch.autograd.functional.jacobian.html) function"
   ]
  },
  {
   "cell_type": "code",
   "execution_count": 15,
   "id": "3f9c65e2-e91e-40a6-a0dd-2f11b7555371",
   "metadata": {
    "executionInfo": {
     "elapsed": 7,
     "status": "ok",
     "timestamp": 1676662861548,
     "user": {
      "displayName": "Nannan Li",
      "userId": "10705435388739437475"
     },
     "user_tz": 300
    },
    "id": "3f9c65e2-e91e-40a6-a0dd-2f11b7555371"
   },
   "outputs": [],
   "source": [
    "# A computation graph is computed during this step. More details and a diagram here https://pytorch.org/tutorials/beginner/basics/autogradqs_tutorial.html \n",
    "y = torch.sum(W@x+b)"
   ]
  },
  {
   "cell_type": "code",
   "execution_count": 16,
   "id": "gY7QS3KSJ8EX",
   "metadata": {
    "colab": {
     "base_uri": "https://localhost:8080/"
    },
    "executionInfo": {
     "elapsed": 5,
     "status": "ok",
     "timestamp": 1676662870403,
     "user": {
      "displayName": "Nannan Li",
      "userId": "10705435388739437475"
     },
     "user_tz": 300
    },
    "id": "gY7QS3KSJ8EX",
    "outputId": "36a6fa3b-f84e-4a86-d759-7195ddd132b2"
   },
   "outputs": [
    {
     "data": {
      "text/plain": [
       "True"
      ]
     },
     "execution_count": 16,
     "metadata": {},
     "output_type": "execute_result"
    }
   ],
   "source": [
    "W.grad is None"
   ]
  },
  {
   "cell_type": "code",
   "execution_count": 17,
   "id": "a55550af-27db-4edf-977b-5e1440d46a4c",
   "metadata": {
    "executionInfo": {
     "elapsed": 5,
     "status": "ok",
     "timestamp": 1676662878186,
     "user": {
      "displayName": "Nannan Li",
      "userId": "10705435388739437475"
     },
     "user_tz": 300
    },
    "id": "a55550af-27db-4edf-977b-5e1440d46a4c"
   },
   "outputs": [],
   "source": [
    "# Compute gradients w.r.t the inputs\n",
    "y.backward()"
   ]
  },
  {
   "cell_type": "code",
   "execution_count": 18,
   "id": "e23c2611-59fd-49a9-89be-4103acb8315d",
   "metadata": {
    "colab": {
     "base_uri": "https://localhost:8080/"
    },
    "executionInfo": {
     "elapsed": 550,
     "status": "ok",
     "timestamp": 1676662888920,
     "user": {
      "displayName": "Nannan Li",
      "userId": "10705435388739437475"
     },
     "user_tz": 300
    },
    "id": "e23c2611-59fd-49a9-89be-4103acb8315d",
    "outputId": "4058d2da-b3df-450b-91ce-4a35e7f24df8"
   },
   "outputs": [
    {
     "data": {
      "text/plain": [
       "tensor([[ 2., -1.],\n",
       "        [ 2., -1.]])"
      ]
     },
     "execution_count": 18,
     "metadata": {},
     "output_type": "execute_result"
    }
   ],
   "source": [
    "W.grad"
   ]
  },
  {
   "cell_type": "code",
   "execution_count": 19,
   "id": "ddd7d64e-5b1e-40b4-8e9a-de67e1d882a9",
   "metadata": {
    "colab": {
     "base_uri": "https://localhost:8080/"
    },
    "executionInfo": {
     "elapsed": 497,
     "status": "ok",
     "timestamp": 1676662894619,
     "user": {
      "displayName": "Nannan Li",
      "userId": "10705435388739437475"
     },
     "user_tz": 300
    },
    "id": "ddd7d64e-5b1e-40b4-8e9a-de67e1d882a9",
    "outputId": "c4b7c4df-5ebc-4413-df2e-4f15bd399c74"
   },
   "outputs": [
    {
     "data": {
      "text/plain": [
       "tensor([[1.],\n",
       "        [1.]])"
      ]
     },
     "execution_count": 19,
     "metadata": {},
     "output_type": "execute_result"
    }
   ],
   "source": [
    "b.grad"
   ]
  },
  {
   "cell_type": "code",
   "execution_count": 20,
   "id": "e1a3f7e1-0a7b-41f3-b3c3-a6d2e4012d4c",
   "metadata": {
    "colab": {
     "base_uri": "https://localhost:8080/"
    },
    "executionInfo": {
     "elapsed": 223,
     "status": "ok",
     "timestamp": 1676662910980,
     "user": {
      "displayName": "Nannan Li",
      "userId": "10705435388739437475"
     },
     "user_tz": 300
    },
    "id": "e1a3f7e1-0a7b-41f3-b3c3-a6d2e4012d4c",
    "outputId": "311315ed-a24b-4658-a2f3-c427b7a2326a"
   },
   "outputs": [
    {
     "data": {
      "text/plain": [
       "True"
      ]
     },
     "execution_count": 20,
     "metadata": {},
     "output_type": "execute_result"
    }
   ],
   "source": [
    "# returns nothing because x.requires_grad is False\n",
    "x.grad is None"
   ]
  },
  {
   "cell_type": "code",
   "execution_count": 21,
   "id": "7ec49f72-aca4-4e9a-9925-b3ac0f5b6cf1",
   "metadata": {
    "executionInfo": {
     "elapsed": 1127,
     "status": "ok",
     "timestamp": 1676662929451,
     "user": {
      "displayName": "Nannan Li",
      "userId": "10705435388739437475"
     },
     "user_tz": 300
    },
    "id": "7ec49f72-aca4-4e9a-9925-b3ac0f5b6cf1"
   },
   "outputs": [],
   "source": [
    "# The gradients of the variables are accumulated overtime. They are not overwritten by new backward calls\n",
    "z = torch.sum(W@x+b)\n",
    "z.backward()"
   ]
  },
  {
   "cell_type": "code",
   "execution_count": 22,
   "id": "90057892-ace6-4cda-9698-82a9ca1b70f0",
   "metadata": {
    "colab": {
     "base_uri": "https://localhost:8080/"
    },
    "executionInfo": {
     "elapsed": 196,
     "status": "ok",
     "timestamp": 1676662948134,
     "user": {
      "displayName": "Nannan Li",
      "userId": "10705435388739437475"
     },
     "user_tz": 300
    },
    "id": "90057892-ace6-4cda-9698-82a9ca1b70f0",
    "outputId": "ab53c41a-dc25-448b-9b09-7f295459d9dd"
   },
   "outputs": [
    {
     "data": {
      "text/plain": [
       "tensor([[ 4., -2.],\n",
       "        [ 4., -2.]])"
      ]
     },
     "execution_count": 22,
     "metadata": {},
     "output_type": "execute_result"
    }
   ],
   "source": [
    "W.grad"
   ]
  },
  {
   "cell_type": "markdown",
   "id": "9DQzmw-tLDOc",
   "metadata": {
    "id": "9DQzmw-tLDOc"
   },
   "source": [
    "Pytorch's backward function only supports calculatin the gradient of a scalar with respect to the variables that are used to compute the scalar."
   ]
  },
  {
   "cell_type": "code",
   "execution_count": 24,
   "id": "YYTw8SjTLCUm",
   "metadata": {
    "executionInfo": {
     "elapsed": 6,
     "status": "ok",
     "timestamp": 1676663003249,
     "user": {
      "displayName": "Nannan Li",
      "userId": "10705435388739437475"
     },
     "user_tz": 300
    },
    "id": "YYTw8SjTLCUm"
   },
   "outputs": [],
   "source": [
    "# k is a 2x1 matrix\n",
    "k = W@x+b\n",
    "k.backward()"
   ]
  },
  {
   "cell_type": "markdown",
   "id": "3b6fc526-a2e4-49cd-9d31-85b1ac4d1b57",
   "metadata": {
    "id": "3b6fc526-a2e4-49cd-9d31-85b1ac4d1b57"
   },
   "source": [
    "**Inference**\n",
    "\n",
    "Sometimes, we need to use the tensors that require gradients for other computations like inference of neural networks and doesn't need their gradients computed. We can disable the gradient tracking and the construction of the gradient graph with `torch.no_grad()`"
   ]
  },
  {
   "cell_type": "code",
   "execution_count": 25,
   "id": "d26f965a-e3d5-4896-90b1-ba889e57c45f",
   "metadata": {
    "colab": {
     "base_uri": "https://localhost:8080/"
    },
    "executionInfo": {
     "elapsed": 755,
     "status": "ok",
     "timestamp": 1676663052056,
     "user": {
      "displayName": "Nannan Li",
      "userId": "10705435388739437475"
     },
     "user_tz": 300
    },
    "id": "d26f965a-e3d5-4896-90b1-ba889e57c45f",
    "outputId": "2a00f057-b5e5-448f-adc8-e0963cc0a094"
   },
   "outputs": [
    {
     "data": {
      "text/plain": [
       "False"
      ]
     },
     "execution_count": 25,
     "metadata": {},
     "output_type": "execute_result"
    }
   ],
   "source": [
    "with torch.no_grad():\n",
    "    m = torch.sum(W@x+b)\n",
    "    \n",
    "m.requires_grad"
   ]
  },
  {
   "cell_type": "markdown",
   "id": "mQ3IrNKiL9AT",
   "metadata": {
    "id": "mQ3IrNKiL9AT"
   },
   "source": [
    "**Practice 1**"
   ]
  },
  {
   "cell_type": "code",
   "execution_count": 28,
   "id": "03ed8a7f-b5f8-4f81-9ff3-2efd8ccab917",
   "metadata": {
    "colab": {
     "base_uri": "https://localhost:8080/"
    },
    "executionInfo": {
     "elapsed": 919,
     "status": "ok",
     "timestamp": 1676663479952,
     "user": {
      "displayName": "Nannan Li",
      "userId": "10705435388739437475"
     },
     "user_tz": 300
    },
    "id": "03ed8a7f-b5f8-4f81-9ff3-2efd8ccab917",
    "outputId": "26ee08dd-7684-4312-d645-201b2b011607"
   },
   "outputs": [
    {
     "name": "stdout",
     "output_type": "stream",
     "text": [
      "torch.Size([100])\n",
      "torch.Size([100])\n"
     ]
    }
   ],
   "source": [
    "# Defining a sinewave and its gradient\n",
    "x = torch.linspace(0, 2*torch.pi, steps=100, requires_grad=True)\n",
    "print(x.shape)\n",
    "sine_x = torch.sin(x)\n",
    "print(sine_x.shape)\n",
    "\n",
    "# call backward() function here\n",
    "torch.sum(sine_x).backward()\n",
    "#NotImplemented"
   ]
  },
  {
   "cell_type": "code",
   "execution_count": 29,
   "id": "82b0eded-2376-4fc4-84bd-d7684bf9c855",
   "metadata": {
    "colab": {
     "base_uri": "https://localhost:8080/",
     "height": 265
    },
    "executionInfo": {
     "elapsed": 684,
     "status": "ok",
     "timestamp": 1676663488538,
     "user": {
      "displayName": "Nannan Li",
      "userId": "10705435388739437475"
     },
     "user_tz": 300
    },
    "id": "82b0eded-2376-4fc4-84bd-d7684bf9c855",
    "outputId": "e312a883-3501-4f3a-9bc1-13c44edabc5e"
   },
   "outputs": [
    {
     "data": {
      "image/png": "[encoded data removed]",
      "text/plain": [
       "<Figure size 432x288 with 1 Axes>"
      ]
     },
     "metadata": {
      "needs_background": "light"
     },
     "output_type": "display_data"
    }
   ],
   "source": [
    "## tensor.detach() is used to get a copy of the tensor and it doesn't require gradient\n",
    "## tensor.numpy() is used to convert a tensor to a numpy array\n",
    "\n",
    "plt.plot(x.detach().numpy(), sine_x.detach().numpy(), label='Sine wave')\n",
    "plt.plot(x.detach().numpy(), x.grad, label='gradient of the sine wave')\n",
    "plt.legend()\n",
    "plt.show()"
   ]
  },
  {
   "cell_type": "markdown",
   "id": "2bc7338c-8cbe-4ab3-988e-e18735ad6f21",
   "metadata": {
    "id": "2bc7338c-8cbe-4ab3-988e-e18735ad6f21"
   },
   "source": [
    "**Using GPU to accelerate computation**"
   ]
  },
  {
   "cell_type": "code",
   "execution_count": 2,
   "id": "6cad38ca-a8a4-40e0-8652-767a12120b80",
   "metadata": {
    "colab": {
     "base_uri": "https://localhost:8080/",
     "height": 37
    },
    "executionInfo": {
     "elapsed": 2206,
     "status": "ok",
     "timestamp": 1676663643538,
     "user": {
      "displayName": "Nannan Li",
      "userId": "10705435388739437475"
     },
     "user_tz": 300
    },
    "id": "6cad38ca-a8a4-40e0-8652-767a12120b80",
    "outputId": "ed8e3d05-e7e4-4f8d-a2b0-beaaab9c6de8"
   },
   "outputs": [
    {
     "data": {
      "application/vnd.google.colaboratory.intrinsic+json": {
       "type": "string"
      },
      "text/plain": [
       "'cuda'"
      ]
     },
     "execution_count": 2,
     "metadata": {},
     "output_type": "execute_result"
    }
   ],
   "source": [
    "# Check if a gpu is accessible\n",
    "device = \"cuda\" if torch.cuda.is_available() else \"cpu\"\n",
    "device"
   ]
  },
  {
   "cell_type": "code",
   "execution_count": 4,
   "id": "fc2a6fe2-47bc-4149-b247-39f2bf0bdd72",
   "metadata": {
    "colab": {
     "base_uri": "https://localhost:8080/"
    },
    "executionInfo": {
     "elapsed": 273,
     "status": "ok",
     "timestamp": 1676663655887,
     "user": {
      "displayName": "Nannan Li",
      "userId": "10705435388739437475"
     },
     "user_tz": 300
    },
    "id": "fc2a6fe2-47bc-4149-b247-39f2bf0bdd72",
    "outputId": "104a9816-bb81-4482-a7eb-1264625df3ab"
   },
   "outputs": [
    {
     "data": {
      "text/plain": [
       "device(type='cpu')"
      ]
     },
     "execution_count": 4,
     "metadata": {},
     "output_type": "execute_result"
    }
   ],
   "source": [
    "a = torch.Tensor(10000, 10000) # initiates a random tensor of shape 1e4x1e4\n",
    "a.device"
   ]
  },
  {
   "cell_type": "code",
   "execution_count": 4,
   "id": "cd57f650-0c0b-4b12-a5d8-e79e72099c4d",
   "metadata": {
    "colab": {
     "base_uri": "https://localhost:8080/"
    },
    "executionInfo": {
     "elapsed": 31642,
     "status": "ok",
     "timestamp": 1676663607343,
     "user": {
      "displayName": "Nannan Li",
      "userId": "10705435388739437475"
     },
     "user_tz": 300
    },
    "id": "cd57f650-0c0b-4b12-a5d8-e79e72099c4d",
    "outputId": "42d9d363-c42e-49a7-b567-ccd72b8bf69f"
   },
   "outputs": [
    {
     "name": "stdout",
     "output_type": "stream",
     "text": [
      "31.535592555999756\n"
     ]
    }
   ],
   "source": [
    "# benchmarking matrix multiplication on CPU\n",
    "start = time()\n",
    "a@a # matrix multiplication\n",
    "end = time()\n",
    "\n",
    "print(end-start)"
   ]
  },
  {
   "cell_type": "code",
   "execution_count": 5,
   "id": "e8092232-b80a-4c5d-bca8-e12a70d37997",
   "metadata": {
    "colab": {
     "base_uri": "https://localhost:8080/"
    },
    "executionInfo": {
     "elapsed": 3918,
     "status": "ok",
     "timestamp": 1676663662235,
     "user": {
      "displayName": "Nannan Li",
      "userId": "10705435388739437475"
     },
     "user_tz": 300
    },
    "id": "e8092232-b80a-4c5d-bca8-e12a70d37997",
    "outputId": "950938a2-11b1-4c34-9888-6c88940b0c53"
   },
   "outputs": [
    {
     "data": {
      "text/plain": [
       "device(type='cuda', index=0)"
      ]
     },
     "execution_count": 5,
     "metadata": {},
     "output_type": "execute_result"
    }
   ],
   "source": [
    "# tensor.to is used to transfer the tensor to a device of choice\n",
    "a = a.to(device)\n",
    "a.device"
   ]
  },
  {
   "cell_type": "code",
   "execution_count": 6,
   "id": "e9889e80-4c8d-45d4-b8fd-a6c2fc9b8619",
   "metadata": {
    "colab": {
     "base_uri": "https://localhost:8080/"
    },
    "executionInfo": {
     "elapsed": 2741,
     "status": "ok",
     "timestamp": 1676663673974,
     "user": {
      "displayName": "Nannan Li",
      "userId": "10705435388739437475"
     },
     "user_tz": 300
    },
    "id": "e9889e80-4c8d-45d4-b8fd-a6c2fc9b8619",
    "outputId": "d7c7a6d4-73d4-4195-9ee3-1afb00d213c0"
   },
   "outputs": [
    {
     "name": "stdout",
     "output_type": "stream",
     "text": [
      "2.6407177448272705\n"
     ]
    }
   ],
   "source": [
    "# benchmarking matrix multiplication on GPU\n",
    "start = time()\n",
    "a@a # matrix multiplication\n",
    "end = time()\n",
    "\n",
    "print(end-start)"
   ]
  },
  {
   "cell_type": "markdown",
   "id": "MKI2yBZkT-55",
   "metadata": {
    "id": "MKI2yBZkT-55"
   },
   "source": [
    "**Practice 2: Training a neural network in Pytorch**\n",
    "\n",
    "All models trained in Pytorch are subclassed from `torch.nn.Module`. \n",
    "\n",
    "[`torch.nn`](https://pytorch.org/docs/stable/nn.html) is a module that contains all the necessary functions and submodules needed to describe and define a neural network.\n",
    "\n",
    " We define a [Lenet5](https://www.analyticsvidhya.com/blog/2021/03/the-architecture-of-lenet-5/) network, built to train on [MNIST](http://yann.lecun.com/exdb/mnist/) dataset below. MNIST is popular hand written digit dataset, containing images with digits from 0-9. The architexture of Lenet5 is shown below\n",
    "\n",
    " ![lenet5.png](data:image/png;base64,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)"
   ]
  },
  {
   "cell_type": "code",
   "execution_count": null,
   "id": "11D7d80jOkXN",
   "metadata": {
    "id": "11D7d80jOkXN"
   },
   "outputs": [],
   "source": [
    "import torch.nn as nn\n",
    "\n",
    "\n",
    "class LeNet(torch.nn.Module):\n",
    "\n",
    "    def __init__(self):\n",
    "        super(LeNet, self).__init__()\n",
    "        # 1 input image channel (black & white), 6 output channels, 5x5 square convolution\n",
    "        # kernel\n",
    "        self.conv1 = nn.Sequential(conv, activation, function)\n",
    "        self.pool1 = nn.AvgPool2d(2)\n",
    "        self.conv2 = NotImplemented\n",
    "        self.pool2 = nn.AvgPool2d(2)\n",
    "        self.conv3 = NotImplemented\n",
    "        self.fc1 = NotImplemented\n",
    "        self.fc2 = NotImplemented\n",
    "\n",
    "    def forward(self, x):\n",
    "        bs,num_channel,height,width=x.shape\n",
    "        x = self.conv1(x)\n",
    "        # continue forward pass\n",
    "        NotImplemented\n",
    "        \n",
    "        # Add a nonlinear function ex) relu\n",
    "\n",
    "        return x"
   ]
  },
  {
   "cell_type": "code",
   "execution_count": null,
   "id": "b4a37b11-7fc1-4841-91b6-f97ef45dc26b",
   "metadata": {
    "id": "b4a37b11-7fc1-4841-91b6-f97ef45dc26b"
   },
   "outputs": [],
   "source": [
    "# Define the dataset and dataloaders for the training process\n",
    "\n",
    "transform=transforms.Compose([\n",
    "        transforms.ToTensor(),\n",
    "        transforms.Resize(32),\n",
    "        transforms.Normalize((0.1307,), (0.3081,))\n",
    "        ])\n",
    "\n",
    "batch_size = 64\n",
    "\n",
    "trainset = datasets.MNIST('./data', train=True, download=True,\n",
    "                       transform=transform)\n",
    "testset = datasets.MNIST('./data', train=False,\n",
    "                   transform=transform)\n",
    "trainloader = torch.utils.data.DataLoader(trainset, batch_size=batch_size,  shuffle=True,  num_workers=16)\n",
    "testloader = torch.utils.data.DataLoader(testset, batch_size=batch_size,  shuffle=False,  num_workers=16)\n",
    "\n",
    "\n",
    "classes = ('0', '1', '2', '3', '4', '5', '6', '7', '8', '9')"
   ]
  },
  {
   "cell_type": "code",
   "execution_count": null,
   "id": "4d5e08bb-5da8-49e8-88d0-2a0567be0cd6",
   "metadata": {
    "id": "4d5e08bb-5da8-49e8-88d0-2a0567be0cd6"
   },
   "outputs": [],
   "source": [
    "dataiter = iter(trainloader)\n",
    "images, labels = next(dataiter)\n",
    "print(images.shape)\n",
    "plt.imshow(np.transpose(torchvision.utils.make_grid(images).numpy(), (1, 2, 0)))"
   ]
  },
  {
   "cell_type": "code",
   "execution_count": null,
   "id": "6d214a06-2c23-4c32-86d0-c66c2d6e1425",
   "metadata": {
    "id": "6d214a06-2c23-4c32-86d0-c66c2d6e1425"
   },
   "outputs": [],
   "source": [
    "model = LeNet()\n",
    "# Put the model to GPU\n",
    "NotImplemented\n",
    "\n",
    "optimizer = torch.optim.SGD(model.parameters(), lr=0.001, momentum=0.9)\n",
    "criterion = torch.nn.CrossEntropyLoss()"
   ]
  },
  {
   "cell_type": "code",
   "execution_count": null,
   "id": "0b0b5def-368c-4f45-8228-c5e5dcd2cffa",
   "metadata": {
    "id": "0b0b5def-368c-4f45-8228-c5e5dcd2cffa"
   },
   "outputs": [],
   "source": [
    "epochs = 10\n",
    "\n",
    "for epoch in tqdm(range(epochs)):\n",
    "    \n",
    "    for images, labels in trainloader:\n",
    "        \n",
    "        # Autograd accumulates the gradients \n",
    "        # zero_grad sets the grads to 0 in the model. \n",
    "        optimizer.zero_grad()\n",
    "        \n",
    "        # send the images and labels to the target device\n",
    "        images, labels = images.to(device), labels.to(device)\n",
    "        \n",
    "        # run a forward pass through the network\n",
    "        logits = model(images)\n",
    "        \n",
    "        # compute losses\n",
    "        loss = criterion(logits, labels)\n",
    "        \n",
    "        # Run backward pass and compute gradients\n",
    "        loss.backward()\n",
    "        \n",
    "        # Make the weight update\n",
    "        optimizer.step()"
   ]
  },
  {
   "cell_type": "code",
   "execution_count": null,
   "id": "75597a50-830f-449c-9a5a-f0561761e340",
   "metadata": {
    "id": "75597a50-830f-449c-9a5a-f0561761e340"
   },
   "outputs": [],
   "source": [
    "# Run inference and compute accuracy\n",
    "\n",
    "predictions = []\n",
    "targets = []\n",
    "\n",
    "with torch.no_grad():\n",
    "     for images, labels in testloader:\n",
    "        \n",
    "        # send the images and labels to the target device\n",
    "        images, labels = images.to(device), labels.to(device)\n",
    "        \n",
    "        # run a forward pass through the network\n",
    "        logits = model(images)\n",
    "        \n",
    "        # get the predicted class \n",
    "        # preds is of size [batch_size] with integer type\n",
    "        preds = NotImplemented\n",
    "        \n",
    "        predictions.append(preds.cpu().numpy())\n",
    "        targets.append(labels.cpu().numpy())\n",
    "        \n",
    "\n",
    "predictions = np.concatenate(predictions)\n",
    "targets = np.concatenate(targets)"
   ]
  },
  {
   "cell_type": "code",
   "execution_count": null,
   "id": "f9057a48-1094-458c-a1ee-644201188184",
   "metadata": {
    "id": "f9057a48-1094-458c-a1ee-644201188184"
   },
   "outputs": [],
   "source": [
    "accuracy = np.mean(predictions==targets)\n",
    "accuracy"
   ]
  },
  {
   "cell_type": "code",
   "execution_count": null,
   "id": "cf1445ad-f60a-4777-9faf-06c5b219f42c",
   "metadata": {
    "id": "cf1445ad-f60a-4777-9faf-06c5b219f42c"
   },
   "outputs": [],
   "source": []
  }
 ],
 "metadata": {
  "accelerator": "GPU",
  "colab": {
   "provenance": [
    {
     "file_id": "13aZnPJtiGWP7r537uMWamjpBTX_0Gqdb",
     "timestamp": 1676492360682
    }
   ]
  },
  "gpuClass": "standard",
  "kernelspec": {
   "display_name": "Python 3",
   "language": "python",
   "name": "python3"
  },
  "language_info": {
   "codemirror_mode": {
    "name": "ipython",
    "version": 3
   },
   "file_extension": ".py",
   "mimetype": "text/x-python",
   "name": "python",
   "nbconvert_exporter": "python",
   "pygments_lexer": "ipython3",
   "version": "3.10.16"
  }
 },
 "nbformat": 4,
 "nbformat_minor": 5
}
